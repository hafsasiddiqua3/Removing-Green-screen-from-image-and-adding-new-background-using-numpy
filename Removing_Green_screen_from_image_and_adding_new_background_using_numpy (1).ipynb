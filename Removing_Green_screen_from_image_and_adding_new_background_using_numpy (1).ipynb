{
  "nbformat": 4,
  "nbformat_minor": 0,
  "metadata": {
    "colab": {
      "provenance": []
    },
    "kernelspec": {
      "name": "python3",
      "display_name": "Python 3"
    },
    "language_info": {
      "name": "python"
    }
  },
  "cells": [
    {
      "cell_type": "code",
      "source": [
        "from PIL import Image\n",
        "import numpy as np"
      ],
      "metadata": {
        "id": "gItjM5hJjB-z"
      },
      "execution_count": null,
      "outputs": []
    },
    {
      "cell_type": "code",
      "execution_count": null,
      "metadata": {
        "id": "lIr_N9ewiv9H"
      },
      "outputs": [],
      "source": [
        "\n",
        "# Load the journalist image and the background image\n",
        "journalist_img = Image.open(\"C:/Users/user/Downloads/fr_jpg.jpg\")\n",
        "background_img = Image.open(\"C:/Users/user/Downloads/bg_jpg.jpg\")\n",
        "\n",
        "# Convert images to NumPy arrays\n",
        "journalist_array = np.array(journalist_img)\n",
        "background_array = np.array(background_img)\n",
        "\n",
        "# Define the green color range\n",
        "lower_green = np.array([35, 65, 35], dtype=np.uint8)\n",
        "upper_green = np.array([90, 255, 90], dtype=np.uint8)\n",
        "\n",
        "red = (journalist_array[:, :, 0] >= lower_green[0]) & (journalist_array[:, :, 0] <= upper_green[0])\n",
        "green = (journalist_array[:, :, 1] >= lower_green[1]) & (journalist_array[:, :, 1] <= upper_green[1])\n",
        "blue = (journalist_array[:, :, 2] >= lower_green[2]) & (journalist_array[:, :, 2] <= upper_green[2])\n",
        "\n",
        "\n",
        "combined = red & green & blue\n",
        "\n",
        "# Replace the green screen pixels in the journalist array with the background pixels\n",
        "journalist_array[combined] = background_array[combined]\n",
        "\n",
        "# Create a new image from the modified journalist array\n",
        "result_img = Image.fromarray(journalist_array)\n",
        "\n",
        "# Save and display the result using PIL\n",
        "result_img.save(\"result_image.jpg\")\n",
        "result_img.show()\n"
      ]
    }
  ]
}